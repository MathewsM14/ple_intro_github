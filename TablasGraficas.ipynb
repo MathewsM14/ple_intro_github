{
 "cells": [
  {
   "cell_type": "code",
   "execution_count": 1,
   "id": "2740544e",
   "metadata": {},
   "outputs": [],
   "source": [
    "import pandas as pd"
   ]
  },
  {
   "cell_type": "markdown",
   "id": "fc6c3e25",
   "metadata": {},
   "source": [
    "La libreria numpy nos permite crear vectores"
   ]
  },
  {
   "cell_type": "code",
   "execution_count": null,
   "id": "157ea5cd",
   "metadata": {},
   "outputs": [],
   "source": [
    "import numpy  as np\n",
    "\n",
    "conos = pd.DataFrame({\n",
    "    'Sabor': np.array(['mora', 'vainilla', ])\n",
    "})"
   ]
  },
  {
   "cell_type": "code",
   "execution_count": 6,
   "id": "431291dc",
   "metadata": {},
   "outputs": [
    {
     "data": {
      "text/plain": [
       "np.str_('adjetivo')"
      ]
     },
     "execution_count": 6,
     "metadata": {},
     "output_type": "execute_result"
    }
   ],
   "source": [
    "import numpy as np\n",
    "\n",
    "words = np.array(['nombre', 'Pronombres', 'verbo', 'adverbio', 'adjetivo'])\n",
    "words[4]"
   ]
  },
  {
   "cell_type": "code",
   "execution_count": 7,
   "id": "6119c8b5",
   "metadata": {},
   "outputs": [
    {
     "data": {
      "text/plain": [
       "array(['nombre', 'Pronombres', 'verbo'], dtype='<U10')"
      ]
     },
     "execution_count": 7,
     "metadata": {},
     "output_type": "execute_result"
    }
   ],
   "source": [
    "words[0:3]"
   ]
  }
 ],
 "metadata": {
  "kernelspec": {
   "display_name": "Python 3",
   "language": "python",
   "name": "python3"
  },
  "language_info": {
   "codemirror_mode": {
    "name": "ipython",
    "version": 3
   },
   "file_extension": ".py",
   "mimetype": "text/x-python",
   "name": "python",
   "nbconvert_exporter": "python",
   "pygments_lexer": "ipython3",
   "version": "3.11.0"
  }
 },
 "nbformat": 4,
 "nbformat_minor": 5
}
