{
 "cells": [
  {
   "cell_type": "code",
   "execution_count": 3,
   "id": "2740544e",
   "metadata": {},
   "outputs": [],
   "source": [
    "import pandas as pd"
   ]
  },
  {
   "cell_type": "markdown",
   "id": "fc6c3e25",
   "metadata": {},
   "source": [
    "La libreria numpy nos permite crear vectores"
   ]
  },
  {
   "cell_type": "code",
   "execution_count": 4,
   "id": "157ea5cd",
   "metadata": {},
   "outputs": [],
   "source": [
    "import numpy  as np\n",
    "\n",
    "conos = pd.DataFrame({\n",
    "    'Sabor': np.array(['mora', 'vainilla', 'chocolate' ])\n",
    "})"
   ]
  },
  {
   "cell_type": "code",
   "execution_count": 2,
   "id": "431291dc",
   "metadata": {},
   "outputs": [
    {
     "data": {
      "text/plain": [
       "np.str_('adjetivo')"
      ]
     },
     "execution_count": 2,
     "metadata": {},
     "output_type": "execute_result"
    }
   ],
   "source": [
    "import numpy as np\n",
    "\n",
    "words = np.array(['nombre', 'Pronombres', 'verbo', 'adverbio', 'adjetivo'])\n",
    "words[4]"
   ]
  },
  {
   "cell_type": "markdown",
   "id": "10355ded",
   "metadata": {},
   "source": [
    "words[Pi:Pf:I]\n",
    "Pi = posicion inicial\n",
    "Pf = posicion final\n",
    "I = incremento"
   ]
  },
  {
   "cell_type": "code",
   "execution_count": 21,
   "id": "6119c8b5",
   "metadata": {},
   "outputs": [
    {
     "data": {
      "text/plain": [
       "array(['adjetivo', 'adverbio', 'verbo', 'Pronombres', 'nombre'],\n",
       "      dtype='<U10')"
      ]
     },
     "execution_count": 21,
     "metadata": {},
     "output_type": "execute_result"
    }
   ],
   "source": [
    "words[ : :-1]"
   ]
  },
  {
   "cell_type": "code",
   "execution_count": 3,
   "id": "855444da",
   "metadata": {},
   "outputs": [
    {
     "data": {
      "text/plain": [
       "array([1. , 3. , 5.3])"
      ]
     },
     "execution_count": 3,
     "metadata": {},
     "output_type": "execute_result"
    }
   ],
   "source": [
    "numbers = np.array([1, 3, 5.3])\n",
    "numbers"
   ]
  },
  {
   "cell_type": "code",
   "execution_count": 24,
   "id": "d9c9e7d6",
   "metadata": {},
   "outputs": [
    {
     "data": {
      "text/plain": [
       "np.float64(9.3)"
      ]
     },
     "execution_count": 24,
     "metadata": {},
     "output_type": "execute_result"
    }
   ],
   "source": [
    "numbers.sum()"
   ]
  },
  {
   "cell_type": "code",
   "execution_count": 26,
   "id": "23d6828c",
   "metadata": {},
   "outputs": [
    {
     "data": {
      "text/plain": [
       "3"
      ]
     },
     "execution_count": 26,
     "metadata": {},
     "output_type": "execute_result"
    }
   ],
   "source": [
    "numbers.size"
   ]
  },
  {
   "cell_type": "code",
   "execution_count": 28,
   "id": "2f9f4952",
   "metadata": {},
   "outputs": [
    {
     "data": {
      "text/plain": [
       "np.float64(3.1)"
      ]
     },
     "execution_count": 28,
     "metadata": {},
     "output_type": "execute_result"
    }
   ],
   "source": [
    "numbers.mean()"
   ]
  },
  {
   "cell_type": "code",
   "execution_count": 34,
   "id": "a7171ad0",
   "metadata": {},
   "outputs": [
    {
     "data": {
      "text/plain": [
       "3"
      ]
     },
     "execution_count": 34,
     "metadata": {},
     "output_type": "execute_result"
    }
   ],
   "source": [
    "np.count_nonzero(numbers)"
   ]
  },
  {
   "cell_type": "code",
   "execution_count": 37,
   "id": "1ac041bc",
   "metadata": {},
   "outputs": [
    {
     "data": {
      "text/plain": [
       "array([1., 3., 6.])"
      ]
     },
     "execution_count": 37,
     "metadata": {},
     "output_type": "execute_result"
    }
   ],
   "source": [
    "np.round(numbers)"
   ]
  },
  {
   "cell_type": "code",
   "execution_count": 58,
   "id": "dcb1b791",
   "metadata": {},
   "outputs": [
    {
     "data": {
      "text/plain": [
       "array([1., 3., 8.])"
      ]
     },
     "execution_count": 58,
     "metadata": {},
     "output_type": "execute_result"
    }
   ],
   "source": [
    "np.cumsum(numbers)"
   ]
  },
  {
   "cell_type": "code",
   "execution_count": 57,
   "id": "c47cd78f",
   "metadata": {},
   "outputs": [
    {
     "data": {
      "text/plain": [
       "array([1., 2., 5.])"
      ]
     },
     "execution_count": 57,
     "metadata": {},
     "output_type": "execute_result"
    }
   ],
   "source": [
    "numbers[2] = np.round(numbers[2])\n",
    "\n",
    "numbers"
   ]
  },
  {
   "cell_type": "code",
   "execution_count": null,
   "id": "60524b2a",
   "metadata": {},
   "outputs": [
    {
     "data": {
      "text/plain": [
       "array([-5.3, -3. , -1. ])"
      ]
     },
     "execution_count": 5,
     "metadata": {},
     "output_type": "execute_result"
    }
   ],
   "source": [
    "np.sort(numbers)"
   ]
  },
  {
   "cell_type": "code",
   "execution_count": null,
   "id": "62664e87",
   "metadata": {},
   "outputs": [],
   "source": []
  }
 ],
 "metadata": {
  "kernelspec": {
   "display_name": "Python 3",
   "language": "python",
   "name": "python3"
  },
  "language_info": {
   "codemirror_mode": {
    "name": "ipython",
    "version": 3
   },
   "file_extension": ".py",
   "mimetype": "text/x-python",
   "name": "python",
   "nbconvert_exporter": "python",
   "pygments_lexer": "ipython3",
   "version": "3.11.0"
  }
 },
 "nbformat": 4,
 "nbformat_minor": 5
}
